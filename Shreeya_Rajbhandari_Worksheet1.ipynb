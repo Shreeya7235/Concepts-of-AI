{
  "nbformat": 4,
  "nbformat_minor": 0,
  "metadata": {
    "colab": {
      "provenance": [],
      "toc_visible": true
    },
    "kernelspec": {
      "name": "python3",
      "display_name": "Python 3"
    },
    "language_info": {
      "name": "python"
    }
  },
  "cells": [
    {
      "cell_type": "markdown",
      "source": [
        "1. Initialize an all one array with size 2X2.\n"
      ],
      "metadata": {
        "id": "0A8Mjp6x--7u"
      }
    },
    {
      "cell_type": "code",
      "source": [
        "array = [[0, 0], [0, 0]]\n"
      ],
      "metadata": {
        "id": "e9NyGgAm_RCz"
      },
      "execution_count": null,
      "outputs": []
    },
    {
      "cell_type": "markdown",
      "source": [
        "2.\tInitialize an all one array with size 4X2."
      ],
      "metadata": {
        "id": "TndYe-HC-nIk"
      }
    },
    {
      "cell_type": "code",
      "source": [
        "array = [[2,5] for _ in range(4)]\n",
        "print(array)"
      ],
      "metadata": {
        "colab": {
          "base_uri": "https://localhost:8080/"
        },
        "id": "EBRhBwTt_N3C",
        "outputId": "c6c79f25-63e5-42cf-a1fc-2e80f2acd5e6"
      },
      "execution_count": null,
      "outputs": [
        {
          "output_type": "stream",
          "name": "stdout",
          "text": [
            "[[2, 5], [2, 5], [2, 5], [2, 5]]\n"
          ]
        }
      ]
    },
    {
      "cell_type": "markdown",
      "source": [
        "3.\tReturn a new array of given shape and type, filled with fill value.{Hint: np.full}"
      ],
      "metadata": {
        "id": "VdHWfWZMAJWM"
      }
    },
    {
      "cell_type": "code",
      "source": [
        "import numpy as np\n",
        "\n",
        "shape = (3, 4)\n",
        "fill_value = 10\n",
        "\n",
        "array = np.full(shape, fill_value)\n",
        "\n",
        "print(array)\n"
      ],
      "metadata": {
        "colab": {
          "base_uri": "https://localhost:8080/"
        },
        "id": "cZmDGYj6BzVk",
        "outputId": "c80f98b5-ad5f-4fe8-9568-3f17e878bfc9"
      },
      "execution_count": null,
      "outputs": [
        {
          "output_type": "stream",
          "name": "stdout",
          "text": [
            "[[10 10 10 10]\n",
            " [10 10 10 10]\n",
            " [10 10 10 10]]\n"
          ]
        }
      ]
    },
    {
      "cell_type": "markdown",
      "source": [
        "4.\tReturn a new array of zeros with same shape and type as a given array.{Hint: np.zeros like}"
      ],
      "metadata": {
        "id": "Mp3OvpbZCITF"
      }
    },
    {
      "cell_type": "code",
      "source": [
        "import numpy as np\n",
        "\n",
        "given_array = np.array([[3,4,5], [8,7,6]])\n",
        "zeros_array = np.zeros_like(given_array)\n",
        "\n",
        "print(zeros_array)\n"
      ],
      "metadata": {
        "colab": {
          "base_uri": "https://localhost:8080/"
        },
        "id": "2pAdhtEVCXV4",
        "outputId": "f3c0a96f-5ae4-4168-9cbd-6cb9a5d900e7"
      },
      "execution_count": null,
      "outputs": [
        {
          "output_type": "stream",
          "name": "stdout",
          "text": [
            "[[0 0 0]\n",
            " [0 0 0]]\n"
          ]
        }
      ]
    },
    {
      "cell_type": "markdown",
      "source": [
        "5.\tReturn a new array of ones with same shape and type as a given array.{Hint: np.ones like}\n"
      ],
      "metadata": {
        "id": "xnqArChBCrQ2"
      }
    },
    {
      "cell_type": "code",
      "source": [
        "import numpy as np\n",
        "\n",
        "given_array = np.array([[2, 4, 8], [10, 5, 9]])\n",
        "ones_array = np.ones_like(given_array)\n",
        "\n",
        "print(ones_array)\n"
      ],
      "metadata": {
        "colab": {
          "base_uri": "https://localhost:8080/"
        },
        "id": "GoPqV-pVDAY_",
        "outputId": "89e95cc7-56db-4812-a198-4c81a8611687"
      },
      "execution_count": null,
      "outputs": [
        {
          "output_type": "stream",
          "name": "stdout",
          "text": [
            "[[1 1 1]\n",
            " [1 1 1]]\n"
          ]
        }
      ]
    },
    {
      "cell_type": "markdown",
      "source": [
        "6.\tFor an existing list new_list = [1,2,3,4] convert to an numpy array.{Hint: np.array()}"
      ],
      "metadata": {
        "id": "4nEoL_3aDtOZ"
      }
    },
    {
      "cell_type": "code",
      "source": [
        "import numpy as np\n",
        "\n",
        "new_list = [9, 12, 7, 2]\n",
        "\n",
        "# Convert to a NumPy array\n",
        "numpy_array = np.array(new_list)\n",
        "\n",
        "print(numpy_array)\n"
      ],
      "metadata": {
        "colab": {
          "base_uri": "https://localhost:8080/"
        },
        "id": "cB3OIZRmDyzb",
        "outputId": "6f6e90b8-8339-48b3-eb81-cb15b341834f"
      },
      "execution_count": null,
      "outputs": [
        {
          "output_type": "stream",
          "name": "stdout",
          "text": [
            "[ 9 12  7  2]\n"
          ]
        }
      ]
    },
    {
      "cell_type": "markdown",
      "source": [
        "2.1.\tCreate an array with values ranging from 10 to 49. {Hint:np.arrange()}."
      ],
      "metadata": {
        "id": "zKEg6T9WED6X"
      }
    },
    {
      "cell_type": "code",
      "source": [
        "import numpy as np\n",
        "\n",
        "array = np.arange(10, 50)\n",
        "\n",
        "print(array)\n"
      ],
      "metadata": {
        "colab": {
          "base_uri": "https://localhost:8080/"
        },
        "id": "XjWx3fU0ENj3",
        "outputId": "a5f6ca59-187b-47c1-fb83-3636163f25fa"
      },
      "execution_count": null,
      "outputs": [
        {
          "output_type": "stream",
          "name": "stdout",
          "text": [
            "[10 11 12 13 14 15 16 17 18 19 20 21 22 23 24 25 26 27 28 29 30 31 32 33\n",
            " 34 35 36 37 38 39 40 41 42 43 44 45 46 47 48 49]\n"
          ]
        }
      ]
    },
    {
      "cell_type": "markdown",
      "source": [
        "2.2.\tCreate a 3X3 matrix with values ranging from 0 to 8."
      ],
      "metadata": {
        "id": "qqYlitAqEVTN"
      }
    },
    {
      "cell_type": "code",
      "source": [
        "import numpy as np\n",
        "\n",
        "# Create a 3x3 matrix with values ranging from 0 to 8\n",
        "matrix = np.arange(9).reshape(3, 3)\n",
        "\n",
        "print(matrix)\n"
      ],
      "metadata": {
        "colab": {
          "base_uri": "https://localhost:8080/"
        },
        "id": "eA_HMUosEgmQ",
        "outputId": "242f3e22-d3e2-48c7-be65-9965752543b9"
      },
      "execution_count": null,
      "outputs": [
        {
          "output_type": "stream",
          "name": "stdout",
          "text": [
            "[[0 1 2]\n",
            " [3 4 5]\n",
            " [6 7 8]]\n"
          ]
        }
      ]
    },
    {
      "cell_type": "markdown",
      "source": [
        "2.3.\tCreate a 3X3 identity matrix.{Hint:np.eye()}"
      ],
      "metadata": {
        "id": "OQZpieWzEmke"
      }
    },
    {
      "cell_type": "code",
      "source": [
        "import numpy as np\n",
        "# Create a 3x3 identity matrix\n",
        "identity_matrix = np.eye(3)\n",
        "\n",
        "print(identity_matrix)\n"
      ],
      "metadata": {
        "colab": {
          "base_uri": "https://localhost:8080/"
        },
        "id": "3z_4Sq4eEvgD",
        "outputId": "2275a4af-3e20-4575-a2b8-e453de08081e"
      },
      "execution_count": null,
      "outputs": [
        {
          "output_type": "stream",
          "name": "stdout",
          "text": [
            "[[1. 0. 0.]\n",
            " [0. 1. 0.]\n",
            " [0. 0. 1.]]\n"
          ]
        }
      ]
    },
    {
      "cell_type": "markdown",
      "source": [
        "2.4.\tCreate a random array of size 30 and find the mean of the array."
      ],
      "metadata": {
        "id": "uG59_1ewE4fS"
      }
    },
    {
      "cell_type": "code",
      "source": [
        "import numpy as np\n",
        "# Create a random array of size 30\n",
        "random_array = np.random.rand(30)\n",
        "\n",
        "mean_value = np.mean(random_array)\n",
        "\n",
        "print(\"Random Array:\", random_array)\n",
        "print(\"Mean of the Array:\", mean_value)\n"
      ],
      "metadata": {
        "colab": {
          "base_uri": "https://localhost:8080/"
        },
        "id": "ubPwWnWxFBgf",
        "outputId": "9834e19c-ad67-43b9-a25b-db3298bfa931"
      },
      "execution_count": null,
      "outputs": [
        {
          "output_type": "stream",
          "name": "stdout",
          "text": [
            "Random Array: [0.89635266 0.93452271 0.54687706 0.0797811  0.33575731 0.78050171\n",
            " 0.61152221 0.64012913 0.6223487  0.47320059 0.49828859 0.76925748\n",
            " 0.16362642 0.21021473 0.35916608 0.18396406 0.0182993  0.15079445\n",
            " 0.22061872 0.5105251  0.65886384 0.91359948 0.81941639 0.12528154\n",
            " 0.40507835 0.60933577 0.91296517 0.30147693 0.53036499 0.77358826]\n",
            "Mean of the Array: 0.5018572949811126\n"
          ]
        }
      ]
    },
    {
      "cell_type": "markdown",
      "source": [
        "2.5.\tCreate a 10X10 array with random values and find the minimum and maximum values."
      ],
      "metadata": {
        "id": "j9oksUUaFOmT"
      }
    },
    {
      "cell_type": "code",
      "source": [
        "import numpy as np\n",
        "\n",
        "# Create a 10x10 array with random values\n",
        "random_array = np.random.rand(10, 10)\n",
        "\n",
        "min_value = np.min(random_array)\n",
        "max_value = np.max(random_array)\n",
        "\n",
        "print(\"Random Array:\\n\", random_array)\n",
        "print(\"Minimum Value:\", min_value)\n",
        "print(\"Maximum Value:\", max_value)\n"
      ],
      "metadata": {
        "colab": {
          "base_uri": "https://localhost:8080/"
        },
        "id": "InLvYNuUFW61",
        "outputId": "977a68dc-b45d-45bc-af9d-f85fc6e78442"
      },
      "execution_count": null,
      "outputs": [
        {
          "output_type": "stream",
          "name": "stdout",
          "text": [
            "Random Array:\n",
            " [[5.99514147e-01 3.69565729e-01 1.27900085e-01 2.54591204e-01\n",
            "  4.31035328e-01 8.82399699e-01 5.93003325e-01 2.81621944e-01\n",
            "  3.63400504e-02 5.64566300e-01]\n",
            " [4.89999351e-01 4.74293905e-01 2.59938048e-01 6.67333358e-01\n",
            "  6.20011064e-01 7.65057947e-01 9.87554134e-01 6.01913238e-01\n",
            "  3.70428209e-06 7.90041916e-01]\n",
            " [5.50806352e-01 5.12087492e-01 7.54895210e-01 4.53589134e-01\n",
            "  4.69179326e-01 9.60275239e-01 7.17669070e-01 5.07971755e-01\n",
            "  2.81413833e-01 1.93638037e-01]\n",
            " [2.06174517e-01 7.70431539e-01 7.23219212e-01 2.52153789e-01\n",
            "  8.92481170e-01 6.83074247e-01 6.56137568e-01 5.59819347e-01\n",
            "  3.66200442e-01 8.32186904e-01]\n",
            " [1.59459932e-01 2.65122618e-01 7.37321379e-01 4.88240198e-01\n",
            "  4.24944925e-01 6.19346984e-02 1.67146908e-01 5.46282007e-01\n",
            "  2.29433577e-01 1.43074227e-04]\n",
            " [4.39303360e-01 5.19431538e-01 1.67596551e-01 4.06788496e-01\n",
            "  3.17743815e-01 5.19189036e-01 4.69990512e-01 4.51608868e-01\n",
            "  4.76338437e-01 5.87780782e-01]\n",
            " [8.47419784e-01 6.83013923e-01 9.60361731e-01 8.66735979e-01\n",
            "  9.14148136e-01 5.42143261e-01 5.65083733e-02 2.67124338e-01\n",
            "  7.88485112e-01 8.50091409e-01]\n",
            " [4.65717982e-01 9.78195529e-01 3.12907120e-01 5.89870522e-02\n",
            "  4.78371990e-01 2.43832033e-01 5.51183305e-01 7.07316257e-01\n",
            "  5.98971242e-01 6.30873198e-01]\n",
            " [2.12110123e-02 5.91509002e-01 7.23033341e-01 9.88443114e-03\n",
            "  1.34187965e-01 8.16697602e-01 2.30701301e-01 8.62943633e-01\n",
            "  5.75962344e-01 3.29221426e-01]\n",
            " [2.98802086e-01 8.86182558e-03 2.50179199e-01 9.03868532e-01\n",
            "  4.99354350e-01 7.71658661e-01 8.49813607e-01 8.93741069e-01\n",
            "  4.65350195e-02 1.50297740e-01]]\n",
            "Minimum Value: 3.704282086514077e-06\n",
            "Maximum Value: 0.9875541338623951\n"
          ]
        }
      ]
    },
    {
      "cell_type": "markdown",
      "source": [
        "2.6.\tCreate a zero array of size 10 and replace 5th element with 1."
      ],
      "metadata": {
        "id": "TZ-SA4uOFo4s"
      }
    },
    {
      "cell_type": "code",
      "source": [
        "import numpy as np\n",
        "import numpy as np\n",
        "\n",
        "zero_array = np.zeros(10)   # Create a zero array of size 10\n",
        "zero_array[4] = 1           # Replace the 5th element (index 4) with 1\n",
        "\n",
        "print(zero_array)\n"
      ],
      "metadata": {
        "colab": {
          "base_uri": "https://localhost:8080/"
        },
        "id": "IC1L0HOsFxGk",
        "outputId": "766a5018-e0b7-4802-ea3f-2588674a8774"
      },
      "execution_count": null,
      "outputs": [
        {
          "output_type": "stream",
          "name": "stdout",
          "text": [
            "[0. 0. 0. 0. 1. 0. 0. 0. 0. 0.]\n"
          ]
        }
      ]
    },
    {
      "cell_type": "markdown",
      "source": [
        "2.7.\tReverse an array arr = [1,2,0,0,4,0]."
      ],
      "metadata": {
        "id": "5f3zKQOWGuu-"
      }
    },
    {
      "cell_type": "code",
      "source": [
        "import numpy as np\n",
        "\n",
        "arr = np.array([1, 2, 0, 0, 4, 0])\n",
        "reversed_arr = arr[::-1]\n",
        "\n",
        "print(reversed_arr)\n"
      ],
      "metadata": {
        "colab": {
          "base_uri": "https://localhost:8080/"
        },
        "id": "d9NPgmy6GyMn",
        "outputId": "db0d1119-44a3-4246-845b-f3b742e58d96"
      },
      "execution_count": null,
      "outputs": [
        {
          "output_type": "stream",
          "name": "stdout",
          "text": [
            "[0 4 0 0 2 1]\n"
          ]
        }
      ]
    },
    {
      "cell_type": "markdown",
      "source": [
        "2.8.\tCreate a 2d array with 1 on border and 0 inside"
      ],
      "metadata": {
        "id": "lfXInUqCG9ut"
      }
    },
    {
      "cell_type": "code",
      "source": [
        "import numpy as np\n",
        "\n",
        "# Create a 2D array with 1 on the border and 0 inside\n",
        "size = 4\n",
        "array = np.ones((size, size))\n",
        "\n",
        "# Set the inside elements to 0\n",
        "array[1:-1, 1:-1] = 0\n",
        "\n",
        "print(array)\n"
      ],
      "metadata": {
        "colab": {
          "base_uri": "https://localhost:8080/"
        },
        "id": "fqeQP0-rHGru",
        "outputId": "b76eb2c0-5412-403e-af41-9ff6865b8ed3"
      },
      "execution_count": null,
      "outputs": [
        {
          "output_type": "stream",
          "name": "stdout",
          "text": [
            "[[1. 1. 1. 1. 1. 1.]\n",
            " [1. 0. 0. 0. 0. 1.]\n",
            " [1. 0. 0. 0. 0. 1.]\n",
            " [1. 0. 0. 0. 0. 1.]\n",
            " [1. 0. 0. 0. 0. 1.]\n",
            " [1. 1. 1. 1. 1. 1.]]\n"
          ]
        }
      ]
    },
    {
      "cell_type": "markdown",
      "source": [
        "2.9.\tCreate a 8X8 matrix and fill it with a checkerboard pattern."
      ],
      "metadata": {
        "id": "9sFr9cSWHgK7"
      }
    },
    {
      "cell_type": "code",
      "source": [
        "import numpy as np\n",
        "\n",
        "# Create an 8x8 matrix with a checkerboard pattern\n",
        "checkerboard = np.zeros((8, 8), dtype=int)\n",
        "\n",
        "checkerboard[1::2, ::2] = 1\n",
        "checkerboard[::2, 1::2] = 1\n",
        "\n",
        "print(checkerboard)\n"
      ],
      "metadata": {
        "colab": {
          "base_uri": "https://localhost:8080/"
        },
        "id": "9NMEutFlHmg8",
        "outputId": "7afb70ae-fef8-4d88-95fc-c83ce6eeb88c"
      },
      "execution_count": null,
      "outputs": [
        {
          "output_type": "stream",
          "name": "stdout",
          "text": [
            "[[0 1 0 1 0 1 0 1]\n",
            " [1 0 1 0 1 0 1 0]\n",
            " [0 1 0 1 0 1 0 1]\n",
            " [1 0 1 0 1 0 1 0]\n",
            " [0 1 0 1 0 1 0 1]\n",
            " [1 0 1 0 1 0 1 0]\n",
            " [0 1 0 1 0 1 0 1]\n",
            " [1 0 1 0 1 0 1 0]]\n"
          ]
        }
      ]
    },
    {
      "cell_type": "markdown",
      "source": [
        "x = np.array([[1,2],[3,5]]) and y = np.array([[5,6],[7,8]]);\n",
        "v = np.array([9,10]) and w = np.array([11,12]); Complete all the task using numpy:\n",
        "\n",
        "3.1. Add the two array."
      ],
      "metadata": {
        "id": "hfm4dbi2HziH"
      }
    },
    {
      "cell_type": "code",
      "source": [
        "import numpy as np\n",
        "\n",
        "x = np.array([[1, 2], [3, 5]])\n",
        "y = np.array([[5, 6], [7, 8]])\n",
        "\n",
        "# Add the two arrays\n",
        "sum_array = x + y\n",
        "\n",
        "print(sum_array)\n"
      ],
      "metadata": {
        "colab": {
          "base_uri": "https://localhost:8080/"
        },
        "id": "2wpysz9iIJ63",
        "outputId": "7d386fe1-dd1c-4148-8fd5-26ca12193dd5"
      },
      "execution_count": null,
      "outputs": [
        {
          "output_type": "stream",
          "name": "stdout",
          "text": [
            "[[ 6  8]\n",
            " [10 13]]\n"
          ]
        }
      ]
    },
    {
      "cell_type": "markdown",
      "source": [
        "x = np.array([[1,2],[3,5]]) and y = np.array([[5,6],[7,8]]);\n",
        "v = np.array([9,10]) and w = np.array([11,12]); Complete all the task using numpy:\n",
        "\n",
        "3.2. Subtract the two array\n"
      ],
      "metadata": {
        "id": "JuNLxsWgIZty"
      }
    },
    {
      "cell_type": "code",
      "source": [
        "import numpy as np\n",
        "\n",
        "x = np.array([[1, 2], [3, 5]])\n",
        "y = np.array([[5, 6], [7, 8]])\n",
        "\n",
        "subtract_array = x - y\n",
        "\n",
        "print(subtract_array)"
      ],
      "metadata": {
        "colab": {
          "base_uri": "https://localhost:8080/"
        },
        "id": "fPe4Y_uOIp_H",
        "outputId": "733b1b2b-e39d-4b56-e212-750edfb28da9"
      },
      "execution_count": null,
      "outputs": [
        {
          "output_type": "stream",
          "name": "stdout",
          "text": [
            "[[-4 -4]\n",
            " [-4 -3]]\n"
          ]
        }
      ]
    },
    {
      "cell_type": "markdown",
      "source": [
        "x = np.array([[1,2],[3,5]]) and y = np.array([[5,6],[7,8]]);\n",
        "v = np.array([9,10]) and w = np.array([11,12]); Complete all the task using numpy:\n",
        "\n",
        "3.3. Multiply the array with any integers of your choice.\n"
      ],
      "metadata": {
        "id": "XHUS_37UJb0D"
      }
    },
    {
      "cell_type": "code",
      "source": [
        "import numpy as np\n",
        "\n",
        "x = np.array([[1, 2], [3, 5]])\n",
        "y = np.array([[5, 6], [7, 8]])\n",
        "\n",
        "integer = 4\n",
        "\n",
        "# Multiply the arrays by the integer\n",
        "x_multiplied = x * integer\n",
        "y_multiplied = y * integer\n",
        "\n",
        "print(\"x multiplied by 2:\\n\", x_multiplied)\n",
        "print(\"y multiplied by 2:\\n\", y_multiplied)\n"
      ],
      "metadata": {
        "colab": {
          "base_uri": "https://localhost:8080/"
        },
        "id": "nApks4vmJvGz",
        "outputId": "022e36f0-b8ba-4ec6-ea60-4997831cacd2"
      },
      "execution_count": null,
      "outputs": [
        {
          "output_type": "stream",
          "name": "stdout",
          "text": [
            "x multiplied by 2:\n",
            " [[ 4  8]\n",
            " [12 20]]\n",
            "y multiplied by 2:\n",
            " [[20 24]\n",
            " [28 32]]\n"
          ]
        }
      ]
    },
    {
      "cell_type": "markdown",
      "source": [
        "x = np.array([[1,2],[3,5]]) and y = np.array([[5,6],[7,8]]);\n",
        "v = np.array([9,10]) and w = np.array([11,12]); Complete all the task using numpy:\n",
        "\n",
        "3.4.Find the square of each element of the array"
      ],
      "metadata": {
        "id": "2s5YU7n0KFB6"
      }
    },
    {
      "cell_type": "code",
      "source": [
        "import numpy as np\n",
        "\n",
        "x = np.array([[1, 2], [3, 5]])\n",
        "y = np.array([[5, 6], [7, 8]])\n",
        "v = np.array([9, 10])\n",
        "w = np.array([11, 12])\n",
        "\n",
        "# Square of each element in the arrays\n",
        "x_squared = x ** 2\n",
        "y_squared = y ** 2\n",
        "v_squared = v ** 2\n",
        "w_squared = w ** 2\n",
        "\n",
        "print(\"Square of x:\\n\", x_squared)\n",
        "print(\"Square of y:\\n\", y_squared)\n",
        "print(\"Square of v:\\n\", v_squared)\n",
        "print(\"Square of w:\\n\", w_squared)\n"
      ],
      "metadata": {
        "colab": {
          "base_uri": "https://localhost:8080/"
        },
        "id": "vXLfWCzyKc1A",
        "outputId": "a5a061a1-dbd6-4bdf-f5ef-808af98a6228"
      },
      "execution_count": null,
      "outputs": [
        {
          "output_type": "stream",
          "name": "stdout",
          "text": [
            "Square of x:\n",
            " [[ 1  4]\n",
            " [ 9 25]]\n",
            "Square of y:\n",
            " [[25 36]\n",
            " [49 64]]\n",
            "Square of v:\n",
            " [ 81 100]\n",
            "Square of w:\n",
            " [121 144]\n"
          ]
        }
      ]
    },
    {
      "cell_type": "markdown",
      "source": [
        "3.5.\tFind the dot product between: v(and)w ; x(and)v ; x(and)y."
      ],
      "metadata": {
        "id": "mudpHFtHLCGW"
      }
    },
    {
      "cell_type": "code",
      "source": [
        "import numpy as np\n",
        "\n",
        "x = np.array([[1, 2], [3, 5]])\n",
        "y = np.array([[5, 6], [7, 8]])\n",
        "v = np.array([9, 10])\n",
        "w = np.array([11, 12])\n",
        "\n",
        "# Calculate dot products\n",
        "v_and_w = np.dot(v, w)\n",
        "x_and_v = np.dot(x, v)\n",
        "x_and_y = np.dot(x, y)\n",
        "\n",
        "# Print the results\n",
        "print(\"Dot product between v and w:\", v_and_w)\n",
        "print(\"Dot product between x and v:\\n\", x_and_v)\n",
        "print(\"Dot product between x and y:\\n\", x_and_y)\n"
      ],
      "metadata": {
        "colab": {
          "base_uri": "https://localhost:8080/"
        },
        "id": "faZnv7TtHRHx",
        "outputId": "321c4ad7-64f0-44e4-d20f-d4dc8d7dd989"
      },
      "execution_count": null,
      "outputs": [
        {
          "output_type": "stream",
          "name": "stdout",
          "text": [
            "Dot product between v and w: 219\n",
            "Dot product between x and v:\n",
            " [29 77]\n",
            "Dot product between x and y:\n",
            " [[19 22]\n",
            " [50 58]]\n"
          ]
        }
      ]
    },
    {
      "cell_type": "markdown",
      "source": [
        "3.6.\tConcatenate x(and)y along row and Concatenate v(and)w along column. {Hint:try np.concatenate() or np.vstack() functions.*italicized text*"
      ],
      "metadata": {
        "id": "ddqtGzyMIO3B"
      }
    },
    {
      "cell_type": "code",
      "source": [
        "import numpy as np\n",
        "\n",
        "# Define the arrays\n",
        "x = np.array([[1, 2], [3, 5]])\n",
        "y = np.array([[5, 6], [7, 8]])\n",
        "v = np.array([9, 10])\n",
        "w = np.array([11, 12])\n",
        "\n",
        "# Concatenate x and y along rows using np.concatenate\n",
        "concat_x_y = np.concatenate((x, y), axis=0)\n",
        "\n",
        "# Concatenate v and w along columns using np.stack\n",
        "stack_v_w = np.stack((v, w), axis=1)\n",
        "\n",
        "# Print the results\n",
        "print(\"Concatenation of x and y along rows using np.concatenate:\\n\", concat_x_y)\n",
        "print(\"Concatenation of v and w along columns using np.stack:\\n\", stack_v_w)\n"
      ],
      "metadata": {
        "colab": {
          "base_uri": "https://localhost:8080/"
        },
        "id": "T22WU6wOIZy5",
        "outputId": "e1a4f346-fc67-4617-f65d-e9ea2fcf2f78"
      },
      "execution_count": null,
      "outputs": [
        {
          "output_type": "stream",
          "name": "stdout",
          "text": [
            "Concatenation of x and y along rows using np.concatenate:\n",
            " [[1 2]\n",
            " [3 5]\n",
            " [5 6]\n",
            " [7 8]]\n",
            "Concatenation of v and w along columns using np.stack:\n",
            " [[ 9 11]\n",
            " [10 12]]\n"
          ]
        }
      ]
    },
    {
      "cell_type": "markdown",
      "source": [
        "3.7.\tConcatenate x(and)v; if you get an error, observe and explain why did you get the error?"
      ],
      "metadata": {
        "id": "Bk4g1VW-JkPy"
      }
    },
    {
      "cell_type": "code",
      "source": [
        "import numpy as np\n",
        "\n",
        "x = np.array([[1, 2], [3, 5]])\n",
        "v = np.array([9, 10])\n",
        "\n",
        "concat_xv = np.concatenate(x,v)\n",
        "print(concat_xv)"
      ],
      "metadata": {
        "colab": {
          "base_uri": "https://localhost:8080/",
          "height": 193
        },
        "id": "u5_4VgMlJiQM",
        "outputId": "db7b2cde-0e1c-4b02-bd5a-90a93e769419"
      },
      "execution_count": null,
      "outputs": [
        {
          "output_type": "error",
          "ename": "TypeError",
          "evalue": "only integer scalar arrays can be converted to a scalar index",
          "traceback": [
            "\u001b[0;31m---------------------------------------------------------------------------\u001b[0m",
            "\u001b[0;31mTypeError\u001b[0m                                 Traceback (most recent call last)",
            "\u001b[0;32m<ipython-input-8-b31caca57b3f>\u001b[0m in \u001b[0;36m<cell line: 6>\u001b[0;34m()\u001b[0m\n\u001b[1;32m      4\u001b[0m \u001b[0mv\u001b[0m \u001b[0;34m=\u001b[0m \u001b[0mnp\u001b[0m\u001b[0;34m.\u001b[0m\u001b[0marray\u001b[0m\u001b[0;34m(\u001b[0m\u001b[0;34m[\u001b[0m\u001b[0;36m9\u001b[0m\u001b[0;34m,\u001b[0m \u001b[0;36m10\u001b[0m\u001b[0;34m]\u001b[0m\u001b[0;34m)\u001b[0m\u001b[0;34m\u001b[0m\u001b[0;34m\u001b[0m\u001b[0m\n\u001b[1;32m      5\u001b[0m \u001b[0;34m\u001b[0m\u001b[0m\n\u001b[0;32m----> 6\u001b[0;31m \u001b[0mconcat_xv\u001b[0m \u001b[0;34m=\u001b[0m \u001b[0mnp\u001b[0m\u001b[0;34m.\u001b[0m\u001b[0mconcatenate\u001b[0m\u001b[0;34m(\u001b[0m\u001b[0mx\u001b[0m\u001b[0;34m,\u001b[0m\u001b[0mv\u001b[0m\u001b[0;34m)\u001b[0m\u001b[0;34m\u001b[0m\u001b[0;34m\u001b[0m\u001b[0m\n\u001b[0m\u001b[1;32m      7\u001b[0m \u001b[0mprint\u001b[0m\u001b[0;34m(\u001b[0m\u001b[0mconcat_xv\u001b[0m\u001b[0;34m)\u001b[0m\u001b[0;34m\u001b[0m\u001b[0;34m\u001b[0m\u001b[0m\n",
            "\u001b[0;31mTypeError\u001b[0m: only integer scalar arrays can be converted to a scalar index"
          ]
        }
      ]
    },
    {
      "cell_type": "markdown",
      "source": [
        "4.1. A = np.array([[3,4],[7,8]]) and B = np.array([[5,3],[2,1]]); Prove following with Numpy:\n",
        "1.\tProve A.A−1 = I.\n",
        "2.\tProve AB ̸= BA.\n",
        "3.\tProve (AB)T = BTAT.\n",
        "\n",
        "    "
      ],
      "metadata": {
        "id": "lTmdxYefMEh2"
      }
    },
    {
      "cell_type": "code",
      "source": [
        "#Problem - 4: Matrix Operations:\n",
        "import numpy as np\n",
        "A = np.array([[3,4],[7,8]])\n",
        "B = np.array([[5,3],[2,1]])\n",
        "\n",
        "# 1. Prove A.A⁻¹ = I\n",
        "A_inv = np.linalg.inv(A)\n",
        "I = np.eye(2)\n",
        "print(\"Multiplication of A and inverse of A):\")\n",
        "print(np.dot(A, A_inv))\n",
        "print(\"\\nIdentity matrix:\")\n",
        "print(I)\n",
        "\n",
        "# 2. Prove AB ≠ BA\n",
        "AB = np.dot(A,B)\n",
        "print(\"A.B : \\n\", AB, \"\\n\")\n",
        "BA = np.dot(B,A)\n",
        "print(\"B.A : \\n\", BA, \"\\n\")\n",
        "print(\"AB == BA ? : \", np.allclose(AB,BA), \"\\n\")\n",
        "\n",
        "# 3. Prove (AB)ᵀ = BᵀAᵀ\n",
        "trans_of_AB = np.transpose(AB)\n",
        "print(\"Transpose of AB: \\n\",trans_of_AB, \"\\n\")\n",
        "trans_of_B = np.transpose(B)\n",
        "trans_of_A = np.transpose(A)\n",
        "A_trans_b_trans = np.dot(trans_of_B, trans_of_A)\n",
        "print(\"A transpose.B transpose : \\n\", A_trans_b_trans, \"\\n\")\n",
        "print(\"Is (AB)ᵀ equal to BᵀAᵀ ?: \", np.allclose(trans_of_AB, A_trans_b_trans), \"\\n\")"
      ],
      "metadata": {
        "colab": {
          "base_uri": "https://localhost:8080/"
        },
        "id": "-0TBwOeBN1fX",
        "outputId": "2b2509f0-8a2f-4263-86ed-b15c510b5fc7"
      },
      "execution_count": null,
      "outputs": [
        {
          "output_type": "stream",
          "name": "stdout",
          "text": [
            "Multiplication of A and inverse of A):\n",
            "[[1.00000000e+00 0.00000000e+00]\n",
            " [1.77635684e-15 1.00000000e+00]]\n",
            "\n",
            "Identity matrix:\n",
            "[[1. 0.]\n",
            " [0. 1.]]\n",
            "A.B : \n",
            " [[23 13]\n",
            " [51 29]] \n",
            "\n",
            "B.A : \n",
            " [[36 44]\n",
            " [13 16]] \n",
            "\n",
            "AB == BA ? :  False \n",
            "\n",
            "Transpose of AB: \n",
            " [[23 51]\n",
            " [13 29]] \n",
            "\n",
            "A transpose.B transpose : \n",
            " [[23 51]\n",
            " [13 29]] \n",
            "\n",
            "Is (AB)ᵀ equal to BᵀAᵀ ?:  True \n",
            "\n"
          ]
        }
      ]
    },
    {
      "cell_type": "markdown",
      "source": [
        "4.2.\tSolve the following system of Linear equation using Inverse Methods.\n",
        "                \n",
        "                 2x − 3y + z = −1\n",
        "                 x − y + 2z = −3\n",
        "                 3x + y − z = 9\n",
        "\n",
        "{Hint: First use Numpy array to represent the equation in Matrix form. Then Solve for: AX = B}\n",
        "\n"
      ],
      "metadata": {
        "id": "zWB-GQauN--8"
      }
    },
    {
      "cell_type": "code",
      "source": [
        "import numpy as np\n",
        "\n",
        "A = np.array([[2, -3, 1],\n",
        "              [1, -1, 2],\n",
        "              [3, 1, -1]])\n",
        "\n",
        "B = np.array([-1, -3, 9])\n",
        "import numpy as np\n",
        "\n",
        "A = np.array([[2, -3, 1],\n",
        "              [1, -1, 2],\n",
        "              [3, 1, -1]])\n",
        "\n",
        "B = np.array([-1, -3, 9])\n",
        "\n",
        "# Step 1: Determinant of A\n",
        "det_A = (A[0, 0] * (A[1, 1] * A[2, 2] - A[1, 2] * A[2, 1]) -\n",
        "         A[0, 1] * (A[1, 0] * A[2, 2] - A[1, 2] * A[2, 0]) +\n",
        "         A[0, 2] * (A[1, 0] * A[2, 1] - A[1, 1] * A[2, 0]))\n",
        "\n",
        "print(\"Determinant of A:\", det_A)\n",
        "\n",
        "# Step 2: Cofactor matrix\n",
        "cofactor_matrix = np.array([\n",
        "    [(A[1, 1] * A[2, 2] - A[1, 2] * A[2, 1]), -(A[1, 0] * A[2, 2] - A[1, 2] * A[2, 0]), (A[1, 0] * A[2, 1] - A[1, 1] * A[2, 0])],\n",
        "    [-(A[0, 1] * A[2, 2] - A[0, 2] * A[2, 1]), (A[0, 0] * A[2, 2] - A[0, 2] * A[2, 0]), -(A[0, 0] * A[2, 1] - A[0, 1] * A[2, 0])],\n",
        "    [(A[0, 1] * A[1, 2] - A[0, 2] * A[1, 1]), -(A[0, 0] * A[1, 2] - A[0, 2] * A[1, 0]), (A[0, 0] * A[1, 1] - A[0, 1] * A[1, 0])]\n",
        "])"
      ],
      "metadata": {
        "colab": {
          "base_uri": "https://localhost:8080/"
        },
        "id": "bq9tIhRYOFyt",
        "outputId": "02f981e8-f03d-42ca-a0cc-628e9086ada6"
      },
      "execution_count": null,
      "outputs": [
        {
          "output_type": "stream",
          "name": "stdout",
          "text": [
            "Determinant of A: -19\n"
          ]
        }
      ]
    },
    {
      "cell_type": "markdown",
      "source": [
        "4.3. Solve the above equation using np.linalg.inv function.{Explore more about ”linalg” function of Numpy}\n"
      ],
      "metadata": {
        "id": "ZbxQwOkXOjjm"
      }
    },
    {
      "cell_type": "code",
      "source": [
        "import numpy as np\n",
        "\n",
        "A = np.array([[2, -3, 1],\n",
        "              [1, -1, 2],\n",
        "              [3, 1, -1]])\n",
        "\n",
        "B = np.array([-1, -3, 9])\n",
        "\n",
        "# Inverse of A using np.linalg.inv\n",
        "A_inv = np.linalg.inv(A)\n",
        "\n",
        "# X = A⁻¹B\n",
        "X = np.dot(A_inv, B)\n",
        "\n",
        "print(\"Inverse of A:\\n\", A_inv)\n",
        "print(\"\\nSolution (x, y, z):\", X)"
      ],
      "metadata": {
        "colab": {
          "base_uri": "https://localhost:8080/"
        },
        "id": "xrXUL792PFyA",
        "outputId": "13b0416b-c62a-48a4-994a-8cbf028926d1"
      },
      "execution_count": null,
      "outputs": [
        {
          "output_type": "stream",
          "name": "stdout",
          "text": [
            "Inverse of A:\n",
            " [[ 0.05263158  0.10526316  0.26315789]\n",
            " [-0.36842105  0.26315789  0.15789474]\n",
            " [-0.21052632  0.57894737 -0.05263158]]\n",
            "\n",
            "Solution (x, y, z): [ 2.  1. -2.]\n"
          ]
        }
      ]
    },
    {
      "cell_type": "markdown",
      "source": [
        "4.2 Experiment: How Fast is Numpy?\n",
        "4.2.1 Element-wise Addition:"
      ],
      "metadata": {
        "id": "yF_LEhFUPN7t"
      }
    },
    {
      "cell_type": "code",
      "source": [
        "import time\n",
        "\n",
        "list1=[x for x in range(1,100000)]\n",
        "list2=[y for y in range(1,100000)]\n",
        "\n",
        "print(\"1. Element-wise Addition: \\n\")\n",
        "start_at = time.time()\n",
        "sum1 = [list1[x] + list2[x] for x in range(len(list1))]\n",
        "end_at = time.time()\n",
        "print(\"Time taken for this operation using Python Lists is: \", end_at-start_at, \"seconds.\\n\")\n",
        "\n",
        "\n",
        "arr1 = np.arange(1_000_000)\n",
        "arr2 = np.arange(1_000_000)\n",
        "\n",
        "start_at = time.time()\n",
        "sum2 = arr1 + arr2\n",
        "end_at = time.time()\n",
        "print(\"Time taken for this operation using NumPy Arrays is:\", end_at-start_at, \"seconds.\")"
      ],
      "metadata": {
        "colab": {
          "base_uri": "https://localhost:8080/"
        },
        "id": "atR2KXGaPbzG",
        "outputId": "51de8667-a21e-4f72-f1ae-15f75545e455"
      },
      "execution_count": null,
      "outputs": [
        {
          "output_type": "stream",
          "name": "stdout",
          "text": [
            "1. Element-wise Addition: \n",
            "\n",
            "Time taken for this operation using Python Lists is:  0.011311769485473633 seconds.\n",
            "\n",
            "Time taken for this operation using NumPy Arrays is: 0.0018627643585205078 seconds.\n"
          ]
        }
      ]
    },
    {
      "cell_type": "markdown",
      "source": [
        "4.2.2 Element-wise Multiplication"
      ],
      "metadata": {
        "id": "r295lQkeQEXH"
      }
    },
    {
      "cell_type": "code",
      "source": [
        "# 2. Element-wise Multiplication:\n",
        "\n",
        "list1=[x for x in range(1,10000)]\n",
        "list2=[y for y in range(1,100000)]\n",
        "\n",
        "print(\"Element-wise Multiplicatio: \\n\")\n",
        "start_at = time.time()\n",
        "product1 = [list1[x] * list2[x] for x in range(len(list1))]\n",
        "end_at = time.time()\n",
        "print(\"Time taken for this operation using Python Lists is: \", end_at-start_at, \"seconds.\\n\")\n",
        "\n",
        "\n",
        "arr1 = np.arange(1_000_000)\n",
        "arr2 = np.arange(1_000_000)\n",
        "\n",
        "start_at = time.time()\n",
        "product2 = arr1*arr2\n",
        "end_at = time.time()\n",
        "print(\"Time taken for this operation using NumPy Arrays is:\", end_at - start_at, \"seconds\")"
      ],
      "metadata": {
        "colab": {
          "base_uri": "https://localhost:8080/"
        },
        "id": "1DFB78PpQOmY",
        "outputId": "80847151-9e6b-4a02-dad4-6cf9ebda2d6a"
      },
      "execution_count": null,
      "outputs": [
        {
          "output_type": "stream",
          "name": "stdout",
          "text": [
            "Element-wise Multiplicatio: \n",
            "\n",
            "Time taken for this operation using Python Lists is:  0.00020551681518554688 seconds.\n",
            "\n",
            "Time taken for this operation using NumPy Arrays is: 0.0023610591888427734 seconds\n"
          ]
        }
      ]
    },
    {
      "cell_type": "markdown",
      "source": [
        "4.2.3 Dot Product:"
      ],
      "metadata": {
        "id": "ADBmLGvOQpnt"
      }
    },
    {
      "cell_type": "code",
      "source": [
        "# 3. Dot Product :\n",
        "list1=[x for x in range(1,100000)]\n",
        "list2=[y for y in range(1,100000)]\n",
        "\n",
        "print(\"Dot product: \\n\")\n",
        "start_at = time.time()\n",
        "product1 = [list1[x] * list2[x] for x in range(len(list1))]\n",
        "end_at = time.time()\n",
        "print(\"Time taken for this operation using Python Lists is: \", end_at-start_at, \"seconds.\\n\")\n",
        "\n",
        "\n",
        "arr1 = np.arange(1_000_000)\n",
        "arr2 = np.arange(1_000_000)\n",
        "\n",
        "start_at = time.time()\n",
        "product2 = np.dot(arr1, arr2)\n",
        "end_at = time.time()\n",
        "print(\"Time taken using NumPy arrays:\", end_at - start_at, \"seconds\")"
      ],
      "metadata": {
        "colab": {
          "base_uri": "https://localhost:8080/"
        },
        "id": "XunRmScIQsoK",
        "outputId": "9b0798b7-0e99-4a0d-a85f-e49a98eab6ec"
      },
      "execution_count": null,
      "outputs": [
        {
          "output_type": "stream",
          "name": "stdout",
          "text": [
            "Dot product: \n",
            "\n",
            "Time taken for this operation using Python Lists is:  0.010224342346191406 seconds.\n",
            "\n",
            "Time taken using NumPy arrays: 0.0007948875427246094 seconds\n"
          ]
        }
      ]
    },
    {
      "cell_type": "markdown",
      "source": [
        "4.2.4 Matrix Multiplication"
      ],
      "metadata": {
        "id": "lusukD8GRfTY"
      }
    },
    {
      "cell_type": "code",
      "source": [
        "print(\"4. Matrix Multiplication\")\n",
        "size = 100\n",
        "\n",
        "# Using Python lists, perform matrix multiplication of two matrices of size 1000x1000. Measure and print the time taken for this operation.\n",
        "matrix1 = [[x for x in range(size)] for _ in range(size)]\n",
        "matrix2 = [[y for y in range(size)] for _ in range(size)]\n",
        "\n",
        "start_time = time.time()\n",
        "result_matrix = [[sum(i * j for i, j in zip(row, col)) for col in zip(*matrix2)] for row in matrix1]\n",
        "end_time = time.time()\n",
        "print(f\"Time taken by Python Lists: {end_time - start_time:.5f} seconds\")\n",
        "\n",
        "# Using NumPy arrays, perform matrix multiplication of two matrices of size 1000x1000. Measure and print the time taken for this operation.\n",
        "matrix1_np = np.array(matrix1)\n",
        "matrix2_np = np.array(matrix2)\n",
        "\n",
        "start_time = time.time()\n",
        "result_matrix_np = np.dot(matrix1_np, matrix2_np)\n",
        "end_time = time.time()\n",
        "print(f\"Time taken by numpy: {end_time - start_time:.5f} seconds\")"
      ],
      "metadata": {
        "colab": {
          "base_uri": "https://localhost:8080/"
        },
        "id": "4isgF5sXRzSv",
        "outputId": "6f18051d-d718-4f97-da4a-2f4b2317f4ea"
      },
      "execution_count": null,
      "outputs": [
        {
          "output_type": "stream",
          "name": "stdout",
          "text": [
            "4. Matrix Multiplication\n",
            "Time taken by Python Lists: 0.06934 seconds\n",
            "Time taken by numpy: 0.00086 seconds\n"
          ]
        }
      ]
    }
  ]
}